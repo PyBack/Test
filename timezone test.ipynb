{
 "cells": [
  {
   "cell_type": "code",
   "execution_count": 1,
   "metadata": {},
   "outputs": [],
   "source": [
    "import time\n",
    "import datetime as dt"
   ]
  },
  {
   "cell_type": "code",
   "execution_count": 2,
   "metadata": {},
   "outputs": [],
   "source": [
    "import pytz\n",
    "import pytzdata\n",
    "import pandas as pd"
   ]
  },
  {
   "cell_type": "code",
   "execution_count": 3,
   "metadata": {},
   "outputs": [
    {
     "name": "stdout",
     "output_type": "stream",
     "text": [
      "Requirement already satisfied: pendulum in /Users/assa/.pyenv/versions/anaconda3-5.3.1/lib/python3.7/site-packages (2.1.2)\n",
      "Requirement already satisfied: python-dateutil<3.0,>=2.6 in /Users/assa/.pyenv/versions/anaconda3-5.3.1/lib/python3.7/site-packages (from pendulum) (2.7.3)\n",
      "Requirement already satisfied: pytzdata>=2020.1 in /Users/assa/.pyenv/versions/anaconda3-5.3.1/lib/python3.7/site-packages (from pendulum) (2020.1)\n",
      "Requirement already satisfied: six>=1.5 in /Users/assa/.pyenv/versions/anaconda3-5.3.1/lib/python3.7/site-packages (from python-dateutil<3.0,>=2.6->pendulum) (1.11.0)\n",
      "\u001b[33mYou are using pip version 18.0, however version 23.2.1 is available.\n",
      "You should consider upgrading via the 'pip install --upgrade pip' command.\u001b[0m\n"
     ]
    }
   ],
   "source": [
    "!pip install pendulum"
   ]
  },
  {
   "cell_type": "code",
   "execution_count": 4,
   "metadata": {},
   "outputs": [],
   "source": [
    "import pendulum"
   ]
  },
  {
   "cell_type": "code",
   "execution_count": null,
   "metadata": {},
   "outputs": [],
   "source": []
  },
  {
   "cell_type": "markdown",
   "metadata": {},
   "source": [
    "# pendulum 사용 테스트"
   ]
  },
  {
   "cell_type": "markdown",
   "metadata": {},
   "source": [
    "https://pendulum.eustace.io/docs/"
   ]
  },
  {
   "cell_type": "markdown",
   "metadata": {},
   "source": [
    "전체적으로 파이썬 기본 datetime 과 호환도 잘되고 parsing, timezone, offset 기능 들이 좀더 편하게 사용할 수 있도록 제공"
   ]
  },
  {
   "cell_type": "code",
   "execution_count": 5,
   "metadata": {},
   "outputs": [
    {
     "data": {
      "text/plain": [
       "DateTime(2023, 9, 9, 12, 9, 47, 695710, tzinfo=Timezone('Asia/Seoul'))"
      ]
     },
     "execution_count": 5,
     "metadata": {},
     "output_type": "execute_result"
    }
   ],
   "source": [
    "now_dt = pendulum.now()\n",
    "now_dt"
   ]
  },
  {
   "cell_type": "code",
   "execution_count": 6,
   "metadata": {},
   "outputs": [
    {
     "data": {
      "text/plain": [
       "True"
      ]
     },
     "execution_count": 6,
     "metadata": {},
     "output_type": "execute_result"
    }
   ],
   "source": [
    "isinstance(now_dt, dt.datetime)"
   ]
  },
  {
   "cell_type": "code",
   "execution_count": 7,
   "metadata": {},
   "outputs": [
    {
     "data": {
      "text/plain": [
       "'Asia/Seoul'"
      ]
     },
     "execution_count": 7,
     "metadata": {},
     "output_type": "execute_result"
    }
   ],
   "source": [
    "now_dt.timezone.name"
   ]
  },
  {
   "cell_type": "code",
   "execution_count": 8,
   "metadata": {},
   "outputs": [
    {
     "data": {
      "text/plain": [
       "DateTime(2023, 9, 9, 5, 9, 55, 519834, tzinfo=Timezone('Europe/Berlin'))"
      ]
     },
     "execution_count": 8,
     "metadata": {},
     "output_type": "execute_result"
    }
   ],
   "source": [
    "now_dt = pendulum.now('Europe/Berlin')\n",
    "now_dt"
   ]
  },
  {
   "cell_type": "code",
   "execution_count": 9,
   "metadata": {},
   "outputs": [
    {
     "data": {
      "text/plain": [
       "'Europe/Berlin'"
      ]
     },
     "execution_count": 9,
     "metadata": {},
     "output_type": "execute_result"
    }
   ],
   "source": [
    "now_dt.timezone.name"
   ]
  },
  {
   "cell_type": "code",
   "execution_count": 10,
   "metadata": {},
   "outputs": [
    {
     "data": {
      "text/plain": [
       "'2023-09-09'"
      ]
     },
     "execution_count": 10,
     "metadata": {},
     "output_type": "execute_result"
    }
   ],
   "source": [
    "now_dt.strftime(\"%Y-%m-%d\")"
   ]
  },
  {
   "cell_type": "code",
   "execution_count": 11,
   "metadata": {},
   "outputs": [
    {
     "data": {
      "text/plain": [
       "DateTime(2023, 3, 4, 9, 0, 0, tzinfo=Timezone('Asia/Seoul'))"
      ]
     },
     "execution_count": 11,
     "metadata": {},
     "output_type": "execute_result"
    }
   ],
   "source": [
    "pendulum.datetime(2023,3,4,9,0,tz=pendulum.timezone('Asia/Seoul'))"
   ]
  },
  {
   "cell_type": "code",
   "execution_count": null,
   "metadata": {},
   "outputs": [],
   "source": []
  },
  {
   "cell_type": "markdown",
   "metadata": {},
   "source": [
    "# pytz 사용 테스트"
   ]
  },
  {
   "cell_type": "markdown",
   "metadata": {},
   "source": [
    "https://taptorestart.tistory.com/entry/Q-%ED%8C%8C%EC%9D%B4%EC%8D%AC-%ED%83%80%EC%9E%84%EC%A1%B4-%EC%9C%A0%EB%AA%85-pytz-%ED%8C%A9%ED%82%A4%EC%A7%80%EC%9D%98-%EC%84%9C%EC%9A%B8-%ED%83%80%EC%9E%84%EC%A1%B4%EC%9D%B4-LMT082800%EC%9C%BC%EB%A1%9C-%EB%82%98%EC%98%A4%EB%8A%94-%EC%9D%B4%EC%9C%A0%EB%8A%94"
   ]
  },
  {
   "cell_type": "markdown",
   "metadata": {},
   "source": [
    "Q. 파이썬 타임존 유명 pytz 팩키지의 서울 타임존이 LMT+08:28:00으로 나오는 이유는?"
   ]
  },
  {
   "cell_type": "code",
   "execution_count": 13,
   "metadata": {},
   "outputs": [
    {
     "data": {
      "text/plain": [
       "<DstTzInfo 'Asia/Seoul' LMT+8:28:00 STD>"
      ]
     },
     "execution_count": 13,
     "metadata": {},
     "output_type": "execute_result"
    }
   ],
   "source": [
    "from pytz import timezone\n",
    "seoul = timezone('Asia/Seoul')\n",
    "seoul"
   ]
  },
  {
   "cell_type": "markdown",
   "metadata": {},
   "source": [
    "아니 서울은 시차가 +9시간인데 왜 +8:30도 아니고 +8:28일까?"
   ]
  },
  {
   "cell_type": "markdown",
   "metadata": {},
   "source": [
    "## datetime now 적용 테스트"
   ]
  },
  {
   "cell_type": "markdown",
   "metadata": {},
   "source": [
    "datetime.now 에는 다행히 정상적으로 출력됨"
   ]
  },
  {
   "cell_type": "code",
   "execution_count": 14,
   "metadata": {},
   "outputs": [
    {
     "data": {
      "text/plain": [
       "datetime.datetime(2023, 9, 9, 12, 10, 53, 816081, tzinfo=<DstTzInfo 'Asia/Seoul' KST+9:00:00 STD>)"
      ]
     },
     "execution_count": 14,
     "metadata": {},
     "output_type": "execute_result"
    }
   ],
   "source": [
    "dt.datetime.now(timezone('Asia/Seoul'))"
   ]
  },
  {
   "cell_type": "code",
   "execution_count": 15,
   "metadata": {},
   "outputs": [
    {
     "data": {
      "text/plain": [
       "datetime.datetime(2023, 9, 9, 12, 10, 54, 960357, tzinfo=<DstTzInfo 'Asia/Seoul' KST+9:00:00 STD>)"
      ]
     },
     "execution_count": 15,
     "metadata": {},
     "output_type": "execute_result"
    }
   ],
   "source": [
    "dt.datetime.now(seoul)"
   ]
  },
  {
   "cell_type": "code",
   "execution_count": 16,
   "metadata": {},
   "outputs": [
    {
     "data": {
      "text/plain": [
       "<DstTzInfo 'Asia/Seoul' LMT+8:28:00 STD>"
      ]
     },
     "execution_count": 16,
     "metadata": {},
     "output_type": "execute_result"
    }
   ],
   "source": [
    "seoul"
   ]
  },
  {
   "cell_type": "code",
   "execution_count": null,
   "metadata": {},
   "outputs": [],
   "source": []
  },
  {
   "cell_type": "markdown",
   "metadata": {},
   "source": [
    "pytz는 Time Zone Database를 사용 \n",
    "```\n",
    "Zone\tNAME\t\tSTDOFF\tRULES\tFORMAT\t[UNTIL]\n",
    "Zone\tAsia/Seoul\t8:27:52\t-\tLMT\t1908 Apr  1\n",
    "\t\t\t8:30\t-\tKST\t1912 Jan  1\n",
    "\t\t\t9:00\t-\tJST\t1945 Sep  8\n",
    "\t\t\t9:00\tROK\tK%sT\t1954 Mar 21\n",
    "\t\t\t8:30\tROK\tK%sT\t1961 Aug 10\n",
    "\t\t\t9:00\tROK\tK%sT\n",
    "Zone\tAsia/Pyongyang\t8:23:00 -\tLMT\t1908 Apr  1\n",
    "\t\t\t8:30\t-\tKST\t1912 Jan  1\n",
    "\t\t\t9:00\t-\tJST\t1945 Aug 24\n",
    "\t\t\t9:00\t-\tKST\t2015 Aug 15 00:00\n",
    "\t\t\t8:30\t-\tKST\t2018 May  4 23:30\n",
    "\t\t\t9:00\t-\tKST\n",
    "```"
   ]
  },
  {
   "cell_type": "markdown",
   "metadata": {},
   "source": [
    "저 8:27:52가 1908년 4월 1일까지 사용한 것을 확인할 수 있다.   \n",
    "이 데이터를 갖고 와서 타임존 설정을 해주니 +8:28이 되는 것이다.    "
   ]
  },
  {
   "cell_type": "code",
   "execution_count": null,
   "metadata": {},
   "outputs": [],
   "source": []
  },
  {
   "cell_type": "code",
   "execution_count": 17,
   "metadata": {},
   "outputs": [
    {
     "name": "stdout",
     "output_type": "stream",
     "text": [
      "1908-03-31 00:00:00+08:28\n",
      "1908-04-02 00:00:00+08:30\n",
      "1911-12-31 00:00:00+08:30\n",
      "1912-01-02 00:00:00+09:00\n",
      "1945-09-07 00:00:00+09:00\n",
      "1945-09-09 00:00:00+09:00\n",
      "1954-03-20 00:00:00+09:00\n",
      "1954-03-21 00:00:00+08:30\n",
      "1961-08-09 00:00:00+08:30\n",
      "1961-08-11 00:00:00+09:00\n"
     ]
    }
   ],
   "source": [
    "import pytz\n",
    "\n",
    "\n",
    "# print(pytz.all_timezones)\n",
    "seoul = pytz.timezone('Asia/Seoul')\n",
    "fmt = '%Y-%m-%d %H:%M:%S %Z%z'\n",
    "loc_dt = seoul.localize(dt.datetime(1908, 3, 31, 0, 0, 0))\n",
    "print(loc_dt)\n",
    "loc_dt = seoul.localize(dt.datetime(1908, 4, 2, 0, 0, 0))\n",
    "print(loc_dt)\n",
    "loc_dt = seoul.localize(dt.datetime(1911, 12, 31, 0, 0, 0))\n",
    "print(loc_dt)\n",
    "loc_dt = seoul.localize(dt.datetime(1912, 1, 2, 0, 0, 0))\n",
    "print(loc_dt)\n",
    "loc_dt = seoul.localize(dt.datetime(1945, 9, 7, 0, 0, 0))\n",
    "print(loc_dt)\n",
    "loc_dt = seoul.localize(dt.datetime(1945, 9, 9, 0, 0, 0))\n",
    "print(loc_dt)\n",
    "loc_dt = seoul.localize(dt.datetime(1954, 3, 20, 0, 0, 0))\n",
    "print(loc_dt)\n",
    "loc_dt = seoul.localize(dt.datetime(1954, 3, 21, 0, 0, 0))\n",
    "print(loc_dt)\n",
    "loc_dt = seoul.localize(dt.datetime(1961, 8, 9, 0, 0, 0))\n",
    "print(loc_dt)\n",
    "loc_dt = seoul.localize(dt.datetime(1961, 8, 11, 0, 0, 0))\n",
    "print(loc_dt)"
   ]
  },
  {
   "cell_type": "markdown",
   "metadata": {},
   "source": [
    "맞다. 역사적 타임존 시간에 맞춰서 처리해주고 있었던 것이다.  \n",
    "특별한 시간대로 localize 하지 않는다면? 역사적 타임존의 가장 맨 위에 있는 시간대로 처리하게 된 거였다.   \n",
    "하지만 pytz 개발자의 이 선택으로 많은 사람들이 오류를 경험한다."
   ]
  },
  {
   "cell_type": "code",
   "execution_count": 18,
   "metadata": {},
   "outputs": [
    {
     "name": "stdout",
     "output_type": "stream",
     "text": [
      "2022-01-01 00:00:00+08:28\n"
     ]
    }
   ],
   "source": [
    "seoul = pytz.timezone('Asia/Seoul')\n",
    "test_dt = dt.datetime(2022, 1, 1, tzinfo=seoul)\n",
    "print(test_dt)"
   ]
  },
  {
   "cell_type": "code",
   "execution_count": null,
   "metadata": {},
   "outputs": [],
   "source": []
  },
  {
   "cell_type": "markdown",
   "metadata": {},
   "source": [
    "오류 해결 방법   \n",
    "  \n",
    "해결책은 pytz를 타임존 정보를 갖고 오는데까지만 쓰지 말고, 날짜시간 값을 갖고 오는데까지 사용하는 것이다.  \n",
    "아래 코드를 실행 해보자.  "
   ]
  },
  {
   "cell_type": "code",
   "execution_count": 19,
   "metadata": {},
   "outputs": [
    {
     "name": "stdout",
     "output_type": "stream",
     "text": [
      "2022-01-01 00:00:00+09:00\n"
     ]
    }
   ],
   "source": [
    "seoul = pytz.timezone('Asia/Seoul')\n",
    "test_dt = seoul.localize(dt.datetime(2022, 1, 1))\n",
    "print(test_dt)"
   ]
  },
  {
   "cell_type": "markdown",
   "metadata": {},
   "source": [
    "2022-01-01 00:00:00+09:00\n",
    "로 원하는 값이 정확하게 나온다.  \n",
    "  \n",
    "공식 문서에 나온 사용 예가 바로 위 예다.  \n",
    "출처: pytz/README  "
   ]
  },
  {
   "cell_type": "code",
   "execution_count": null,
   "metadata": {},
   "outputs": [],
   "source": []
  }
 ],
 "metadata": {
  "kernelspec": {
   "display_name": "Python 3",
   "language": "python",
   "name": "python3"
  },
  "language_info": {
   "codemirror_mode": {
    "name": "ipython",
    "version": 3
   },
   "file_extension": ".py",
   "mimetype": "text/x-python",
   "name": "python",
   "nbconvert_exporter": "python",
   "pygments_lexer": "ipython3",
   "version": "3.7.0"
  }
 },
 "nbformat": 4,
 "nbformat_minor": 2
}
